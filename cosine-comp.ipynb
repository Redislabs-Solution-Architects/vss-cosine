{
 "cells": [
  {
   "cell_type": "markdown",
   "metadata": {},
   "source": [
    "# Cosine Similarity Search Comparison\n",
    "Comparison of cosine distance scoring between Redis VSS against JSON, Redis VSS against Hash Sets, and Pinecone."
   ]
  },
  {
   "cell_type": "markdown",
   "metadata": {},
   "source": [
    "# Import Python Modules"
   ]
  },
  {
   "cell_type": "code",
   "execution_count": null,
   "metadata": {
    "vscode": {
     "languageId": "shellscript"
    }
   },
   "outputs": [],
   "source": [
    "! pip install redis openai python-dotenv openai[datalib] pinecone-client"
   ]
  },
  {
   "cell_type": "markdown",
   "metadata": {},
   "source": [
    "# Start Redis Stack Docker Container"
   ]
  },
  {
   "cell_type": "code",
   "execution_count": 1,
   "metadata": {
    "vscode": {
     "languageId": "shellscript"
    }
   },
   "outputs": [
    {
     "name": "stdout",
     "output_type": "stream",
     "text": [
      "\u001b[1A\u001b[1B\u001b[0G\u001b[?25l[+] Running 0/0\n",
      " ⠋ Network vss-cosine_default  Creating                                    \u001b[34m0.1s \u001b[0m\n",
      "\u001b[?25h\u001b[1A\u001b[1A\u001b[0G\u001b[?25l\u001b[34m[+] Running 1/1\u001b[0m\n",
      " \u001b[32m✔\u001b[0m Network vss-cosine_default    \u001b[32mCreated\u001b[0m                                   \u001b[34m0.1s \u001b[0m\n",
      " ⠋ Container vss-cosine-redis-1  Creatin...                                \u001b[34m0.1s \u001b[0m\n",
      "\u001b[?25h\u001b[1A\u001b[1A\u001b[1A\u001b[0G\u001b[?25l[+] Running 1/2\n",
      " \u001b[32m✔\u001b[0m Network vss-cosine_default    \u001b[32mCreated\u001b[0m                                   \u001b[34m0.1s \u001b[0m\n",
      " ⠿ Container vss-cosine-redis-1  Startin...                                \u001b[34m0.2s \u001b[0m\n",
      "\u001b[?25h\u001b[1A\u001b[1A\u001b[1A\u001b[0G\u001b[?25l[+] Running 1/2\n",
      " \u001b[32m✔\u001b[0m Network vss-cosine_default    \u001b[32mCreated\u001b[0m                                   \u001b[34m0.1s \u001b[0m\n",
      " ⠿ Container vss-cosine-redis-1  Startin...                                \u001b[34m0.3s \u001b[0m\n",
      "\u001b[?25h\u001b[1A\u001b[1A\u001b[1A\u001b[0G\u001b[?25l[+] Running 1/2\n",
      " \u001b[32m✔\u001b[0m Network vss-cosine_default    \u001b[32mCreated\u001b[0m                                   \u001b[34m0.1s \u001b[0m\n",
      " ⠿ Container vss-cosine-redis-1  Startin...                                \u001b[34m0.4s \u001b[0m\n",
      "\u001b[?25h\u001b[1A\u001b[1A\u001b[1A\u001b[0G\u001b[?25l\u001b[34m[+] Running 2/2\u001b[0m\n",
      " \u001b[32m✔\u001b[0m Network vss-cosine_default    \u001b[32mCreated\u001b[0m                                   \u001b[34m0.1s \u001b[0m\n",
      " \u001b[32m✔\u001b[0m Container vss-cosine-redis-1  \u001b[32mStarted\u001b[0m                                   \u001b[34m0.4s \u001b[0m\n",
      "\u001b[?25h"
     ]
    }
   ],
   "source": [
    "! docker compose up -d"
   ]
  },
  {
   "cell_type": "markdown",
   "metadata": {},
   "source": [
    "# Create an embedding via OpenAI"
   ]
  },
  {
   "cell_type": "code",
   "execution_count": 3,
   "metadata": {},
   "outputs": [],
   "source": [
    "import openai\n",
    "from dotenv import load_dotenv\n",
    "import os\n",
    "from redis import from_url\n",
    "from redis.commands.search.field import VectorField\n",
    "from redis.commands.search.indexDefinition import IndexDefinition, IndexType\n",
    "from redis.commands.search.query import Query\n",
    "import numpy as np\n",
    "import pinecone\n",
    "import time\n",
    "from tqdm.notebook import tqdm as tqdm\n",
    "\n",
    "\n",
    "load_dotenv()\n",
    "openai.api_key = os.getenv(\"OPENAI_API_KEY\")\n",
    "def get_vector(text, model=\"text-embedding-ada-002\"):\n",
    "    text = text.replace(\"\\n\", \" \")\n",
    "    return openai.Embedding.create(input = [text], model = model)['data'][0]['embedding']\n",
    "\n",
    "text_1 = \"a\" * 20 + \"b\" * 20 + \"c\" * 20 + \"d\" * 20 + \"e\" * 20\n",
    "vector_1 = get_vector(text_1)"
   ]
  },
  {
   "cell_type": "markdown",
   "metadata": {},
   "source": [
    "# Create Redis Client Connection"
   ]
  },
  {
   "cell_type": "code",
   "execution_count": 4,
   "metadata": {},
   "outputs": [
    {
     "data": {
      "text/plain": [
       "True"
      ]
     },
     "execution_count": 4,
     "metadata": {},
     "output_type": "execute_result"
    }
   ],
   "source": [
    "client = from_url('redis://localhost:6379')\n",
    "client.flushdb()"
   ]
  },
  {
   "cell_type": "markdown",
   "metadata": {},
   "source": [
    "# Build Redis VSS Index against JSON-stored vector"
   ]
  },
  {
   "cell_type": "code",
   "execution_count": 5,
   "metadata": {},
   "outputs": [
    {
     "data": {
      "text/plain": [
       "True"
      ]
     },
     "execution_count": 5,
     "metadata": {},
     "output_type": "execute_result"
    }
   ],
   "source": [
    "schema_json = [ VectorField('$.vector', \n",
    "            \"FLAT\", \n",
    "            {   \"TYPE\": 'FLOAT32', \n",
    "                \"DIM\": len(vector_1), \n",
    "                \"DISTANCE_METRIC\": \"COSINE\"\n",
    "            },  as_name='vector' )\n",
    "        ]\n",
    "idx_json_def = IndexDefinition(index_type=IndexType.JSON, prefix=['doc-json:'])\n",
    "client.ft('idx-json').create_index(schema_json, definition=idx_json_def)\n",
    "\n",
    "client.json().set('doc-json:1', '$', {\"vector\": vector_1})"
   ]
  },
  {
   "cell_type": "markdown",
   "metadata": {},
   "source": [
    "# Build Redis VSS Index against Hash-stored vector"
   ]
  },
  {
   "cell_type": "code",
   "execution_count": 6,
   "metadata": {},
   "outputs": [
    {
     "data": {
      "text/plain": [
       "1"
      ]
     },
     "execution_count": 6,
     "metadata": {},
     "output_type": "execute_result"
    }
   ],
   "source": [
    "schema_hash = [ VectorField('vector', \n",
    "            \"FLAT\", \n",
    "            {   \"TYPE\": 'FLOAT32', \n",
    "                \"DIM\": len(vector_1), \n",
    "                \"DISTANCE_METRIC\": \"COSINE\"\n",
    "            })\n",
    "        ]\n",
    "idx_hash_def = IndexDefinition(index_type=IndexType.HASH, prefix=['doc-hash:'])\n",
    "client.ft('idx-hash').create_index(schema_hash, definition=idx_hash_def)\n",
    "\n",
    "client.hset('doc-hash:1', mapping={'vector': np.array(vector_1, dtype=np.float32).tobytes()})"
   ]
  },
  {
   "cell_type": "markdown",
   "metadata": {},
   "source": [
    "# Build Pinecone Index"
   ]
  },
  {
   "cell_type": "code",
   "execution_count": 7,
   "metadata": {},
   "outputs": [],
   "source": [
    "pinecone.init(api_key=os.getenv(\"PINECONE_API_KEY\"), environment=\"gcp-starter\")\n",
    "pinecone.create_index(\"test\", dimension=len(vector_1), metric=\"cosine\")\n",
    "pindex = pinecone.Index(\"test\")\n",
    "pindex.upsert([{'id': 'doc:1', 'values': vector_1}])\n",
    "while (pindex.describe_index_stats().total_vector_count < 1):\n",
    "    time.sleep(3)"
   ]
  },
  {
   "cell_type": "markdown",
   "metadata": {},
   "source": [
    "# Create Query Vector"
   ]
  },
  {
   "cell_type": "code",
   "execution_count": 8,
   "metadata": {},
   "outputs": [],
   "source": [
    "text_2 = \"z\" * 20 + \"y\" * 20 + \"x\" * 20 + \"w\" * 20 + \"v\" * 20\n",
    "vector_2 = get_vector(text_2)"
   ]
  },
  {
   "cell_type": "markdown",
   "metadata": {},
   "source": [
    "# Run Redis/JSON vs Pinecone Cosine Test"
   ]
  },
  {
   "cell_type": "code",
   "execution_count": 9,
   "metadata": {},
   "outputs": [
    {
     "name": "stdout",
     "output_type": "stream",
     "text": [
      "Redis cosine distance    :0.0929868221282959\n",
      "Pinecone cosine distance :0.09561246633529663\n",
      "Manual cosine distance   :0.0929863452911377\n",
      "\n",
      "Redis v. Manual Diff     :0.0000004768 \n",
      "Pinecone v. Manual Diff  :0.0026261210 \n",
      "Redis v. Pinecone Diff   :0.0026256442 \n"
     ]
    }
   ],
   "source": [
    "q = Query('*=>[KNN 1 @vector $query_vec AS vector_score]')\\\n",
    "    .sort_by('vector_score')\\\n",
    "    .return_fields('vector_score')\\\n",
    "    .dialect(2)    \n",
    "params = { \"query_vec\": np.array(vector_2, dtype=np.float32).tobytes() }\n",
    "json_results = client.ft('idx-json').search(q, query_params=params)\n",
    "redis_score = np.float32(json_results.docs[0]['vector_score'])\n",
    "print(f\"Redis cosine distance    :{redis_score}\")\n",
    "\n",
    "results = pindex.query(vector=vector_2, top_k=1, include_values=True)\n",
    "pinecone_score = np.float32(1.0 - results['matches'][0]['score'])\n",
    "print(f\"Pinecone cosine distance :{pinecone_score}\")\n",
    "\n",
    "np_vec1 = np.array(vector_1, dtype=np.float32)\n",
    "np_vec2 = np.array(vector_2, dtype=np.float32)\n",
    "manual = np.float32(1.0 - np.dot(np_vec1, np_vec2))\n",
    "print(f\"Manual cosine distance   :{manual}\\n\")\n",
    "print(f\"Redis v. Manual Diff     :{abs(manual-redis_score):.10f} \")\n",
    "print(f\"Pinecone v. Manual Diff  :{abs(manual-pinecone_score):.10f} \")\n",
    "print(f\"Redis v. Pinecone Diff   :{abs(redis_score-pinecone_score):.10f} \")"
   ]
  },
  {
   "cell_type": "markdown",
   "metadata": {},
   "source": [
    "# Run Redis/Hash vs Pinecone Cosine Test"
   ]
  },
  {
   "cell_type": "code",
   "execution_count": 10,
   "metadata": {},
   "outputs": [
    {
     "name": "stdout",
     "output_type": "stream",
     "text": [
      "\n",
      "*** Redis/Hash vs Pinecone Cosine Test  ***\n",
      "Redis cosine distance    :0.0929868221282959\n",
      "Pinecone cosine distance :0.09561246633529663\n",
      "Manual cosine distance   :0.0929863452911377\n",
      "\n",
      "Redis v. Manual Diff     :0.0000004768 \n",
      "Pinecone v. Manual Diff  :0.0026261210 \n",
      "Redis v. Pinecone Diff   :0.0026256442 \n"
     ]
    }
   ],
   "source": [
    "print(\"\\n*** Redis/Hash vs Pinecone Cosine Test  ***\")\n",
    "hash_results = client.ft('idx-hash').search(q, query_params=params)\n",
    "redis_score = np.float32(hash_results.docs[0]['vector_score'])\n",
    "print(f\"Redis cosine distance    :{redis_score}\")\n",
    "print(f\"Pinecone cosine distance :{pinecone_score}\")\n",
    "print(f\"Manual cosine distance   :{manual}\\n\")\n",
    "print(f\"Redis v. Manual Diff     :{abs(manual-redis_score):.10f} \")\n",
    "print(f\"Pinecone v. Manual Diff  :{abs(manual-pinecone_score):.10f} \")\n",
    "print(f\"Redis v. Pinecone Diff   :{abs(redis_score-pinecone_score):.10f} \")"
   ]
  },
  {
   "cell_type": "markdown",
   "metadata": {},
   "source": [
    "# Clean Up"
   ]
  },
  {
   "cell_type": "code",
   "execution_count": 11,
   "metadata": {},
   "outputs": [],
   "source": [
    "pinecone.delete_index(\"test\")"
   ]
  },
  {
   "cell_type": "code",
   "execution_count": 12,
   "metadata": {
    "vscode": {
     "languageId": "shellscript"
    }
   },
   "outputs": [
    {
     "name": "stdout",
     "output_type": "stream",
     "text": [
      "\u001b[1A\u001b[1B\u001b[0G\u001b[?25l[+] Running 0/0\n",
      " ⠋ Container vss-cosine-redis-1  Stoppin...                                \u001b[34m0.1s \u001b[0m\n",
      "\u001b[?25h\u001b[1A\u001b[1A\u001b[0G\u001b[?25l[+] Running 0/1\n",
      " ⠙ Container vss-cosine-redis-1  Stoppin...                                \u001b[34m0.2s \u001b[0m\n",
      "\u001b[?25h\u001b[1A\u001b[1A\u001b[0G\u001b[?25l[+] Running 0/1\n",
      " ⠹ Container vss-cosine-redis-1  Stoppin...                                \u001b[34m0.3s \u001b[0m\n",
      "\u001b[?25h\u001b[1A\u001b[1A\u001b[0G\u001b[?25l\u001b[34m[+] Running 1/1\u001b[0m\n",
      " \u001b[32m✔\u001b[0m Container vss-cosine-redis-1  \u001b[32mRemoved\u001b[0m                                   \u001b[34m0.4s \u001b[0m\n",
      " ⠋ Network vss-cosine_default    Removing                                  \u001b[34m0.0s \u001b[0m\n",
      "\u001b[?25h\u001b[1A\u001b[1A\u001b[1A\u001b[0G\u001b[?25l[+] Running 1/2\n",
      " \u001b[32m✔\u001b[0m Container vss-cosine-redis-1  \u001b[32mRemoved\u001b[0m                                   \u001b[34m0.4s \u001b[0m\n",
      " ⠙ Network vss-cosine_default    Removing                                  \u001b[34m0.1s \u001b[0m\n",
      "\u001b[?25h\u001b[1A\u001b[1A\u001b[1A\u001b[0G\u001b[?25l[+] Running 1/2\n",
      " \u001b[32m✔\u001b[0m Container vss-cosine-redis-1  \u001b[32mRemoved\u001b[0m                                   \u001b[34m0.4s \u001b[0m\n",
      " ⠹ Network vss-cosine_default    Removing                                  \u001b[34m0.2s \u001b[0m\n",
      "\u001b[?25h\u001b[1A\u001b[1A\u001b[1A\u001b[0G\u001b[?25l[+] Running 1/2\n",
      " \u001b[32m✔\u001b[0m Container vss-cosine-redis-1  \u001b[32mRemoved\u001b[0m                                   \u001b[34m0.4s \u001b[0m\n",
      " ⠸ Network vss-cosine_default    Removing                                  \u001b[34m0.3s \u001b[0m\n",
      "\u001b[?25h\u001b[1A\u001b[1A\u001b[1A\u001b[0G\u001b[?25l[+] Running 1/2\n",
      " \u001b[32m✔\u001b[0m Container vss-cosine-redis-1  \u001b[32mRemoved\u001b[0m                                   \u001b[34m0.4s \u001b[0m\n",
      " ⠼ Network vss-cosine_default    Removing                                  \u001b[34m0.4s \u001b[0m\n",
      "\u001b[?25h\u001b[1A\u001b[1A\u001b[1A\u001b[0G\u001b[?25l\u001b[34m[+] Running 2/2\u001b[0m\n",
      " \u001b[32m✔\u001b[0m Container vss-cosine-redis-1  \u001b[32mRemoved\u001b[0m                                   \u001b[34m0.4s \u001b[0m\n",
      " \u001b[32m✔\u001b[0m Network vss-cosine_default    \u001b[32mRemoved\u001b[0m                                   \u001b[34m0.4s \u001b[0m\n",
      "\u001b[?25h"
     ]
    }
   ],
   "source": [
    "! docker compose down"
   ]
  }
 ],
 "metadata": {
  "kernelspec": {
   "display_name": ".venv",
   "language": "python",
   "name": "python3"
  },
  "language_info": {
   "codemirror_mode": {
    "name": "ipython",
    "version": 3
   },
   "file_extension": ".py",
   "mimetype": "text/x-python",
   "name": "python",
   "nbconvert_exporter": "python",
   "pygments_lexer": "ipython3",
   "version": "3.10.12"
  },
  "orig_nbformat": 4
 },
 "nbformat": 4,
 "nbformat_minor": 2
}
